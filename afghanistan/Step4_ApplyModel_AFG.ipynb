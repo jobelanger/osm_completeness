{
 "cells": [
  {
   "cell_type": "markdown",
   "metadata": {},
   "source": [
    "<h1>Run Enriched Polygons Through Trained OSM Completeness Model</h1>\n",
    "<p>After enriching a collection of 250-m by 250-m grid cells, the output can be run through the trained OSM completeness model to produce predictions of OSM building footprint area.</p>"
   ]
  },
  {
   "cell_type": "code",
   "execution_count": 1,
   "metadata": {
    "scrolled": true
   },
   "outputs": [],
   "source": [
    "import json\n",
    "import joblib\n",
    "import geopandas as gpd\n",
    "import pandas as pd\n",
    "import numpy as np\n",
    "import matplotlib\n",
    "import cartopy\n",
    "from shapely.geometry import shape, box, mapping, Point, Polygon"
   ]
  },
  {
   "cell_type": "markdown",
   "metadata": {},
   "source": [
    "<h2>These are all variables that need to be set before running the notebook</h2>"
   ]
  },
  {
   "cell_type": "code",
   "execution_count": 2,
   "metadata": {},
   "outputs": [],
   "source": [
    "#file containing enriched cells on which to run the trained model\n",
    "inputFile = r\"P:\\AFG\\GEO\\Team\\Projects\\OSM_Completeness\\AFG_20200915\\KBL_JBD_602_enriched.json\"\n",
    "#file containing trained model .sav file from training notebook\n",
    "trainedModel = r\"P:\\AFG\\GEO\\Team\\Projects\\OSM_Completeness\\AFG_20200915\\afg_rf_model_20200917.sav\"\n",
    "\n",
    "#what output json file should be called (cells containing predicted area and completeness values)\n",
    "outputFile = r\"P:\\AFG\\GEO\\Team\\Projects\\OSM_Completeness\\AFG_20200915\\KBL_JBD_602_predicted.json\"\n",
    "\n",
    "#directory for images to be output\n",
    "outputDirectory = r\"P:\\AFG\\GEO\\Team\\Projects\\OSM_Completeness\\AFG_20200915\\\\\"\n",
    "\n",
    "#predicted area value below which a cell will be considered \"no built up area\"\n",
    "noBuildingThresh=5000"
   ]
  },
  {
   "cell_type": "code",
   "execution_count": 3,
   "metadata": {},
   "outputs": [],
   "source": [
    "#load data\n",
    "with open(inputFile,'r') as data:\n",
    "    x = json.load(data)"
   ]
  },
  {
   "cell_type": "code",
   "execution_count": 4,
   "metadata": {},
   "outputs": [
    {
     "name": "stdout",
     "output_type": "stream",
     "text": [
      "76046\n"
     ]
    }
   ],
   "source": [
    "#create polygons for geodataframe\n",
    "polygons=[]\n",
    "for feature in x['features']:\n",
    "    g = shape(feature['geometry']).buffer(0)\n",
    "    polygons.append(g)\n",
    "print(len(polygons))"
   ]
  },
  {
   "cell_type": "code",
   "execution_count": 5,
   "metadata": {},
   "outputs": [],
   "source": [
    "def returnFeatureVals(featureString, variable):\n",
    "    return [x['properties'][featureString] for x in variable['features']]"
   ]
  },
  {
   "cell_type": "code",
   "execution_count": 6,
   "metadata": {},
   "outputs": [],
   "source": [
    "applyFeatureDict = {\n",
    "    'ndbi':returnFeatureVals('ndbi', x),\n",
    "    'ndvi':returnFeatureVals('ndvi', x),\n",
    "    'savi':returnFeatureVals('savi', x),\n",
    "    'ui':returnFeatureVals('ui', x),\n",
    "    'viirs':returnFeatureVals('viirs', x),\n",
    "    #'slope':returnFeatureVals('slope', x),\n",
    "    'texture':returnFeatureVals('texture', x),\n",
    "    'forest':returnFeatureVals('forest', x),\n",
    "    #'popFB':returnFeatureVals('popFB',x),\n",
    "    'popWP':returnFeatureVals('popWP',x),\n",
    "    'popGUF':returnFeatureVals('popGUF',x),\n",
    "    'popDEM':returnFeatureVals('popDEM',x),\n",
    "    'lc_built':returnFeatureVals('lc_built',x),\n",
    "    'lc_crop':returnFeatureVals('lc_crop',x),\n",
    "    'lc_grass':returnFeatureVals('lc_grass',x),\n",
    "    'lc_tree':returnFeatureVals('lc_tree',x),\n",
    "    'lc_herb':returnFeatureVals('lc_herb',x),\n",
    "    'lc_shrub':returnFeatureVals('lc_shrub',x),\n",
    "    'lc_sparseveg':returnFeatureVals('lc_sparseveg',x),\n",
    "    #'lc_mangrove':returnFeatureVals('lc_mangrove',x),\n",
    "    'lc_soil':returnFeatureVals('lc_soil',x),\n",
    "    'lc_snow':returnFeatureVals('lc_snow',x),\n",
    "    'lc_water':returnFeatureVals('lc_water',x),\n",
    "    'area':returnFeatureVals('area',x)\n",
    "}\n",
    "applyDF = pd.DataFrame.from_dict(applyFeatureDict)\n",
    "applyGeoDF = gpd.GeoDataFrame(applyDF,crs = 4326, geometry=polygons)\n",
    "applyGeoDF = applyGeoDF.fillna(0)"
   ]
  },
  {
   "cell_type": "code",
   "execution_count": 7,
   "metadata": {},
   "outputs": [],
   "source": [
    "model = joblib.load(trainedModel)"
   ]
  },
  {
   "cell_type": "code",
   "execution_count": 8,
   "metadata": {},
   "outputs": [],
   "source": [
    "applyFeatureDF = applyGeoDF[['ndbi','ndvi','savi','ui','viirs','texture','forest','popWP','popGUF', 'popDEM', 'lc_built','lc_crop','lc_grass','lc_tree', 'lc_herb','lc_shrub','lc_sparseveg', 'lc_soil','lc_snow','lc_water']]\n",
    "applyTargetDF = applyGeoDF['area']"
   ]
  },
  {
   "cell_type": "code",
   "execution_count": 9,
   "metadata": {
    "scrolled": true
   },
   "outputs": [],
   "source": [
    "y_apply = model.predict(applyFeatureDF)"
   ]
  },
  {
   "cell_type": "code",
   "execution_count": 10,
   "metadata": {},
   "outputs": [],
   "source": [
    "for i,feature in enumerate(x['features']):\n",
    "    area = x['features'][i]['properties']['area']\n",
    "    #erase other properties for smaller output file\n",
    "    feature['properties'] = {}\n",
    "    #predicted OSM building footprint area\n",
    "    feature['properties']['parea'] = y_apply[i]\n",
    "    #actual mapped building footprint area\n",
    "    feature['properties']['builtArea'] = area"
   ]
  },
  {
   "cell_type": "code",
   "execution_count": 11,
   "metadata": {},
   "outputs": [],
   "source": [
    "#saving output\n",
    "with open(outputFile,'w') as f:\n",
    "    json.dump(x,f)"
   ]
  },
  {
   "cell_type": "markdown",
   "metadata": {},
   "source": [
    "<h2>Plotting output for quick visualization</h2>"
   ]
  },
  {
   "cell_type": "code",
   "execution_count": 20,
   "metadata": {
    "scrolled": true
   },
   "outputs": [
    {
     "name": "stdout",
     "output_type": "stream",
     "text": [
      "0 of 76046\n"
     ]
    },
    {
     "ename": "NameError",
     "evalue": "name 'mplot' is not defined",
     "output_type": "error",
     "traceback": [
      "\u001b[1;31m---------------------------------------------------------------------------\u001b[0m",
      "\u001b[1;31mNameError\u001b[0m                                 Traceback (most recent call last)",
      "\u001b[1;32m<ipython-input-20-49e5c87b140e>\u001b[0m in \u001b[0;36m<module>\u001b[1;34m\u001b[0m\n\u001b[0;32m     42\u001b[0m     \u001b[0mtransformed\u001b[0m \u001b[1;33m=\u001b[0m \u001b[0mcartopy\u001b[0m\u001b[1;33m.\u001b[0m\u001b[0mcrs\u001b[0m\u001b[1;33m.\u001b[0m\u001b[0mLambertConformal\u001b[0m\u001b[1;33m(\u001b[0m\u001b[0mcentral_latitude\u001b[0m\u001b[1;33m=\u001b[0m\u001b[0mclat\u001b[0m\u001b[1;33m,\u001b[0m\u001b[0mcentral_longitude\u001b[0m\u001b[1;33m=\u001b[0m\u001b[0mclon\u001b[0m\u001b[1;33m)\u001b[0m\u001b[1;33m.\u001b[0m\u001b[0mtransform_points\u001b[0m\u001b[1;33m(\u001b[0m\u001b[0mcartopy\u001b[0m\u001b[1;33m.\u001b[0m\u001b[0mcrs\u001b[0m\u001b[1;33m.\u001b[0m\u001b[0mPlateCarree\u001b[0m\u001b[1;33m(\u001b[0m\u001b[1;33m)\u001b[0m\u001b[1;33m,\u001b[0m\u001b[0mnp\u001b[0m\u001b[1;33m.\u001b[0m\u001b[0masarray\u001b[0m\u001b[1;33m(\u001b[0m\u001b[0mx\u001b[0m\u001b[1;33m)\u001b[0m\u001b[1;33m,\u001b[0m\u001b[0mnp\u001b[0m\u001b[1;33m.\u001b[0m\u001b[0masarray\u001b[0m\u001b[1;33m(\u001b[0m\u001b[0my\u001b[0m\u001b[1;33m)\u001b[0m\u001b[1;33m)\u001b[0m\u001b[1;33m\u001b[0m\u001b[1;33m\u001b[0m\u001b[0m\n\u001b[0;32m     43\u001b[0m     \u001b[1;31m# changed mpoly to poly\u001b[0m\u001b[1;33m\u001b[0m\u001b[1;33m\u001b[0m\u001b[1;33m\u001b[0m\u001b[0m\n\u001b[1;32m---> 44\u001b[1;33m     \u001b[0mpolys\u001b[0m\u001b[1;33m.\u001b[0m\u001b[0mappend\u001b[0m\u001b[1;33m(\u001b[0m\u001b[0mmplot\u001b[0m\u001b[1;33m(\u001b[0m\u001b[0mtransformed\u001b[0m\u001b[1;33m[\u001b[0m\u001b[1;33m:\u001b[0m\u001b[1;33m,\u001b[0m\u001b[1;36m0\u001b[0m\u001b[1;33m:\u001b[0m\u001b[1;36m2\u001b[0m\u001b[1;33m]\u001b[0m\u001b[1;33m)\u001b[0m\u001b[1;33m)\u001b[0m\u001b[1;33m\u001b[0m\u001b[1;33m\u001b[0m\u001b[0m\n\u001b[0m\u001b[0;32m     45\u001b[0m     \u001b[0mlws\u001b[0m\u001b[1;33m.\u001b[0m\u001b[0mappend\u001b[0m\u001b[1;33m(\u001b[0m\u001b[1;36m0.05\u001b[0m\u001b[1;33m)\u001b[0m\u001b[1;33m\u001b[0m\u001b[1;33m\u001b[0m\u001b[0m\n\u001b[0;32m     46\u001b[0m \u001b[1;33m\u001b[0m\u001b[0m\n",
      "\u001b[1;31mNameError\u001b[0m: name 'mplot' is not defined"
     ]
    }
   ],
   "source": [
    "from matplotlib import pyplot\n",
    "\n",
    "#import as dictionary\n",
    "with open(outputFile,\"r\") as data:\n",
    "    x = json.load(data)\n",
    "#load as dataframe\n",
    "plotdf = gpd.read_file(outputFile)\n",
    "\n",
    "bounds = plotdf.total_bounds\n",
    "\n",
    "bounds = [bounds[0], bounds[2], bounds[1], bounds[3]]\n",
    "\n",
    "clat = (bounds[2]+bounds[3])/2\n",
    "clon = (bounds[0]+bounds[1])/2\n",
    "\n",
    "features = x['features']\n",
    "polys=[]\n",
    "#predicted area\n",
    "vals = []\n",
    "#completeness\n",
    "vals2 = []\n",
    "lws=[]\n",
    "for i,feature in enumerate(features):\n",
    "    if (i%1000)==0:\n",
    "        print(f'{i} of {len(features)}')\n",
    "    \n",
    "    coords = feature['geometry']['coordinates'][0]\n",
    "    x=[]\n",
    "    y=[]\n",
    "    \n",
    "    vals.append(feature['properties']['parea'])\n",
    "        \n",
    "    try:\n",
    "        vals2.append(feature['properties']['builtArea']/feature['properties']['parea'])\n",
    "    except:\n",
    "        vals2.append(0)\n",
    "        \n",
    "    for point in coords:\n",
    "        x.append(point[0])\n",
    "        y.append(point[1])\n",
    "    # changed ccrs to cartopy.crs\n",
    "    transformed = cartopy.crs.LambertConformal(central_latitude=clat,central_longitude=clon).transform_points(cartopy.crs.PlateCarree(),np.asarray(x),np.asarray(y))\n",
    "    # mpoly does not exist, what is this?\n",
    "    polys.append(mpoly(transformed[:,0:2]))\n",
    "    lws.append(0.05)\n",
    "\n",
    "cmap = matplotlib.cm.get_cmap('viridis')\n",
    "cmap2 = matplotlib.cm.get_cmap('RdYlGn')\n",
    "\n",
    "norm = matplotlib.colors.Normalize(vmin=0,vmax=np.nanmax(vals))\n",
    "norm2 = matplotlib.colors.Normalize(vmin=0,vmax=1)\n",
    "fcs = cmap(norm(vals))\n",
    "vals2 = np.asarray(vals2)\n",
    "vals2[vals2>1] = 1\n",
    "fcs2 = cmap2(norm2(vals2))\n",
    "\n",
    "fcs2[np.asarray(vals)<noBuildingThresh] = (.9,.9,.9,1)\n",
    "\n",
    "\n",
    "pc=PatchCollection(polys, facecolors=fcs,edgecolors=fcs,linewidths=lws)   \n",
    "pc2=PatchCollection(polys, facecolors=fcs2,edgecolors=fcs2,linewidths=lws)   \n",
    "\n",
    "\n",
    "fig = plt.figure(constrained_layout = True)\n",
    "\n",
    "gs = fig.add_gridspec(20,10)\n",
    "ax1 = fig.add_subplot(gs[0:19,:],projection=cartopy.crs.LambertConformal(central_latitude=clat,central_longitude=clon))\n",
    "ax2= fig.add_subplot(gs[19::,:])\n",
    "ax1.set_extent(bounds)\n",
    "ax1.set_title('Predicted Area',fontsize=10)\n",
    "ax1.add_collection(pc)\n",
    "cb=fig.colorbar(matplotlib.cm.ScalarMappable(norm=norm, cmap=cmap),\n",
    "             cax=ax2, orientation='horizontal')\n",
    "cb.ax.tick_params(labelsize=8)\n",
    "cb.set_label(label=\"Area (square meters)\",fontsize=8)\n",
    "plt.savefig(outputDirectory+'predicted.png',bbox_inches='tight',dpi=1000)\n",
    "plt.close(fig)\n",
    "\n",
    "fig = plt.figure(constrained_layout = True)\n",
    "\n",
    "gs = fig.add_gridspec(20,10)\n",
    "ax1 = fig.add_subplot(gs[0:19,:],projection=crs.LambertConformal(central_latitude=clat,central_longitude=clon))\n",
    "ax2= fig.add_subplot(gs[19::,:])\n",
    "ax1.set_extent(bounds)\n",
    "ax1.set_title('Ratio Predicted to Actual Area',fontsize=10)\n",
    "ax1.add_collection(pc2)\n",
    "cb=fig.colorbar(matplotlib.cm.ScalarMappable(norm=norm2, cmap=cmap2),\n",
    "             cax=ax2, orientation='horizontal')\n",
    "cb.ax.tick_params(labelsize=8)\n",
    "cb.set_label(label=\"Ratio\",fontsize=8)\n",
    "plt.savefig(outputDirectory+'ratio.png',bbox_inches='tight',dpi=1000)\n",
    "plt.close(fig)"
   ]
  },
  {
   "cell_type": "code",
   "execution_count": 19,
   "metadata": {},
   "outputs": [
    {
     "ename": "TypeError",
     "evalue": "list indices must be integers or slices, not tuple",
     "output_type": "error",
     "traceback": [
      "\u001b[1;31m---------------------------------------------------------------------------\u001b[0m",
      "\u001b[1;31mTypeError\u001b[0m                                 Traceback (most recent call last)",
      "\u001b[1;32m<ipython-input-19-666e5a97bf94>\u001b[0m in \u001b[0;36m<module>\u001b[1;34m\u001b[0m\n\u001b[0;32m      1\u001b[0m \u001b[1;31m#quantitative assessment of unmapped footprint area. Assumes a completeness ratio > 0.5 is mapped\u001b[0m\u001b[1;33m\u001b[0m\u001b[1;33m\u001b[0m\u001b[1;33m\u001b[0m\u001b[0m\n\u001b[0;32m      2\u001b[0m \u001b[0mbuiltUpIdx\u001b[0m \u001b[1;33m=\u001b[0m \u001b[0mnp\u001b[0m\u001b[1;33m.\u001b[0m\u001b[0mnonzero\u001b[0m\u001b[1;33m(\u001b[0m\u001b[0mnp\u001b[0m\u001b[1;33m.\u001b[0m\u001b[0masarray\u001b[0m\u001b[1;33m(\u001b[0m\u001b[0mvals\u001b[0m\u001b[1;33m)\u001b[0m\u001b[1;33m>=\u001b[0m\u001b[0mnoBuildingThresh\u001b[0m\u001b[1;33m)\u001b[0m\u001b[1;33m\u001b[0m\u001b[1;33m\u001b[0m\u001b[0m\n\u001b[1;32m----> 3\u001b[1;33m \u001b[0mbuiltUp\u001b[0m \u001b[1;33m=\u001b[0m \u001b[0mvals2\u001b[0m\u001b[1;33m[\u001b[0m\u001b[0mbuiltUpIdx\u001b[0m\u001b[1;33m]\u001b[0m\u001b[1;33m\u001b[0m\u001b[1;33m\u001b[0m\u001b[0m\n\u001b[0m\u001b[0;32m      4\u001b[0m \u001b[1;33m\u001b[0m\u001b[0m\n\u001b[0;32m      5\u001b[0m \u001b[0mareasBuilt\u001b[0m \u001b[1;33m=\u001b[0m \u001b[0mnp\u001b[0m\u001b[1;33m.\u001b[0m\u001b[0masarray\u001b[0m\u001b[1;33m(\u001b[0m\u001b[0mvals\u001b[0m\u001b[1;33m)\u001b[0m\u001b[1;33m[\u001b[0m\u001b[0mbuiltUpIdx\u001b[0m\u001b[1;33m]\u001b[0m\u001b[1;33m\u001b[0m\u001b[1;33m\u001b[0m\u001b[0m\n",
      "\u001b[1;31mTypeError\u001b[0m: list indices must be integers or slices, not tuple"
     ]
    }
   ],
   "source": [
    "#quantitative assessment of unmapped footprint area. Assumes a completeness ratio > 0.5 is mapped\n",
    "builtUpIdx = np.nonzero(np.asarray(vals)>=noBuildingThresh)\n",
    "builtUp = vals2[builtUpIdx]\n",
    "\n",
    "areasBuilt = np.asarray(vals)[builtUpIdx]\n",
    "\n",
    "completeIdx = np.nonzero(builtUp>=0.5)\n",
    "incompleteIdx = np.nonzero(builtUp<0.5)\n",
    "completeAreas = areasBuilt[completeIdx]\n",
    "incompleteAreas = areasBuilt[incompleteIdx]\n",
    "\n",
    "complete = builtUp[completeIdx]\n",
    "incomplete = builtUp[incompleteIdx]\n",
    "\n",
    "mappedBuildings=np.sum(completeAreas)\n",
    "unmappedBuildings=np.sum(incompleteAreas)\n",
    "print(f'{np.round(mappedBuildings)} meters squared has been mapped')\n",
    "print(f'{np.round(unmappedBuildings)} meters squared needs to be mapped')\n",
    "print(f'{np.round(100*mappedBuildings/(unmappedBuildings+mappedBuildings),decimals=1)} percent of footprint has been mapped')"
   ]
  },
  {
   "cell_type": "code",
   "execution_count": null,
   "metadata": {},
   "outputs": [],
   "source": []
  }
 ],
 "metadata": {
  "kernelspec": {
   "display_name": "Python 3",
   "language": "python",
   "name": "python3"
  },
  "language_info": {
   "codemirror_mode": {
    "name": "ipython",
    "version": 3
   },
   "file_extension": ".py",
   "mimetype": "text/x-python",
   "name": "python",
   "nbconvert_exporter": "python",
   "pygments_lexer": "ipython3",
   "version": "3.8.1"
  }
 },
 "nbformat": 4,
 "nbformat_minor": 4
}
